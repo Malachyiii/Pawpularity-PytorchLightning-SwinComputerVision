{
  "nbformat": 4,
  "nbformat_minor": 0,
  "metadata": {
    "colab": {
      "name": "Pawpularity_fastai.ipynb",
      "provenance": [],
      "collapsed_sections": [],
      "machine_shape": "hm",
      "authorship_tag": "ABX9TyNk3i+Nt2gkwTm6waO1vbKR",
      "include_colab_link": true
    },
    "kernelspec": {
      "name": "python3",
      "display_name": "Python 3"
    },
    "language_info": {
      "name": "python"
    },
    "accelerator": "GPU"
  },
  "cells": [
    {
      "cell_type": "markdown",
      "metadata": {
        "id": "view-in-github",
        "colab_type": "text"
      },
      "source": [
        "<a href=\"https://colab.research.google.com/github/Malachyiii/Pawpularity-PytorchLightning-SwinComputerVision/blob/main/Pawpularity_fastai.ipynb\" target=\"_parent\"><img src=\"https://colab.research.google.com/assets/colab-badge.svg\" alt=\"Open In Colab\"/></a>"
      ]
    },
    {
      "cell_type": "code",
      "execution_count": 1,
      "metadata": {
        "id": "TvBksz9CYdKB"
      },
      "outputs": [],
      "source": [
        "%%capture\n",
        "!pip install timm fastai\n",
        "!pip install -U fastai\n",
        "!pip install wandb --quiet\n",
        "!pip install pytorch-lightning"
      ]
    },
    {
      "cell_type": "code",
      "source": [
        "#Downloading the Data\n",
        "!wget -O data.zip \"https://storage.googleapis.com/kaggle-competitions-data/kaggle-v2/25383/2684322/bundle/archive.zip?GoogleAccessId=web-data@kaggle-161607.iam.gserviceaccount.com&Expires=1641577717&Signature=WkjwoZIt1aYIF42c%2Bit9JVun1Hmr6nIuk3RG%2Bmyzp1Y6i8ZRgD8t6TnzhVHr7VFtzMtrqqZSj1h75OjCCIJvJCUWz%2BK66PnCFa%2FGKvyql5X1NKBXgh%2FR%2FQCPasJmFPjgk0Nh3JXbtmYn%2BHMi7MN5xUEd%2FdSb2CYt7k7Arf%2BwZ9sAARTL4bmwkwVguNaQUNHBrXUsYqLsOX9ZsoL0sH05So3jP5m30AfjR9%2BmRP4KKS5Aw07N3Fy4hQxZjoQCdB2DPsqOSjwVqjwWlKeYEw3zB4X4cwfSxGcTl%2FIme5ofe3QbY4oEx7tJ2iwn1YL3i42q6Yrv3ZoPlaJnP%2B0wKH14Wg%3D%3D&response-content-disposition=attachment%3B+filename%3Dpetfinder-pawpularity-score.zip\""
      ],
      "metadata": {
        "colab": {
          "base_uri": "https://localhost:8080/"
        },
        "id": "GN-UG7ixYlF6",
        "outputId": "d8b35c12-a258-4512-cb23-e6c1c667424a"
      },
      "execution_count": 2,
      "outputs": [
        {
          "output_type": "stream",
          "name": "stdout",
          "text": [
            "--2022-01-05 20:07:30--  https://storage.googleapis.com/kaggle-competitions-data/kaggle-v2/25383/2684322/bundle/archive.zip?GoogleAccessId=web-data@kaggle-161607.iam.gserviceaccount.com&Expires=1641577717&Signature=WkjwoZIt1aYIF42c%2Bit9JVun1Hmr6nIuk3RG%2Bmyzp1Y6i8ZRgD8t6TnzhVHr7VFtzMtrqqZSj1h75OjCCIJvJCUWz%2BK66PnCFa%2FGKvyql5X1NKBXgh%2FR%2FQCPasJmFPjgk0Nh3JXbtmYn%2BHMi7MN5xUEd%2FdSb2CYt7k7Arf%2BwZ9sAARTL4bmwkwVguNaQUNHBrXUsYqLsOX9ZsoL0sH05So3jP5m30AfjR9%2BmRP4KKS5Aw07N3Fy4hQxZjoQCdB2DPsqOSjwVqjwWlKeYEw3zB4X4cwfSxGcTl%2FIme5ofe3QbY4oEx7tJ2iwn1YL3i42q6Yrv3ZoPlaJnP%2B0wKH14Wg%3D%3D&response-content-disposition=attachment%3B+filename%3Dpetfinder-pawpularity-score.zip\n",
            "Resolving storage.googleapis.com (storage.googleapis.com)... 74.125.203.128, 64.233.189.128, 108.177.125.128, ...\n",
            "Connecting to storage.googleapis.com (storage.googleapis.com)|74.125.203.128|:443... connected.\n",
            "HTTP request sent, awaiting response... 200 OK\n",
            "Length: 1030728211 (983M) [application/zip]\n",
            "Saving to: ‘data.zip’\n",
            "\n",
            "data.zip            100%[===================>] 982.98M   363MB/s    in 2.7s    \n",
            "\n",
            "2022-01-05 20:07:33 (363 MB/s) - ‘data.zip’ saved [1030728211/1030728211]\n",
            "\n"
          ]
        }
      ]
    },
    {
      "cell_type": "code",
      "source": [
        "! unzip -qq \"data.zip\" -d data"
      ],
      "metadata": {
        "colab": {
          "base_uri": "https://localhost:8080/"
        },
        "id": "VRXTxmRQYoeJ",
        "outputId": "3da8d742-ade3-4caf-c423-921a99bb2da3"
      },
      "execution_count": 3,
      "outputs": [
        {
          "output_type": "stream",
          "name": "stdout",
          "text": [
            "replace data/sample_submission.csv? [y]es, [n]o, [A]ll, [N]one, [r]ename: N\n"
          ]
        }
      ]
    },
    {
      "cell_type": "code",
      "source": [
        "from google.colab import drive\n",
        "drive.mount('/content/drive')"
      ],
      "metadata": {
        "colab": {
          "base_uri": "https://localhost:8080/"
        },
        "id": "FnuRdBuPYp4q",
        "outputId": "0b26aa61-358b-4f24-d1b6-a08ddf60fbb3"
      },
      "execution_count": 4,
      "outputs": [
        {
          "output_type": "stream",
          "name": "stdout",
          "text": [
            "Drive already mounted at /content/drive; to attempt to forcibly remount, call drive.mount(\"/content/drive\", force_remount=True).\n"
          ]
        }
      ]
    },
    {
      "cell_type": "code",
      "source": [
        "import numpy as np\n",
        "import pandas as pd\n",
        "import math\n",
        "import fastai\n",
        "from fastai.vision.all import *\n",
        "\n",
        "import torch\n",
        "from torch import nn\n",
        "from torch.nn import functional as F\n",
        "\n",
        "import torchvision\n",
        "from torchvision import transforms as T\n",
        "from torchvision.io import read_image\n",
        "\n",
        "import timm\n",
        "from timm import create_model\n",
        "\n",
        "import sklearn\n",
        "from sklearn.model_selection import StratifiedKFold"
      ],
      "metadata": {
        "id": "AQQuf0DYYgZ7"
      },
      "execution_count": 1,
      "outputs": []
    },
    {
      "cell_type": "code",
      "source": [
        "#timm.list_models(pretrained=True)"
      ],
      "metadata": {
        "id": "JSYUgPFxlLTl"
      },
      "execution_count": 2,
      "outputs": []
    },
    {
      "cell_type": "code",
      "source": [
        "class args:\n",
        "  folder_name = Path('../content/data/')\n",
        "  seed = 1212\n",
        "  num_splits = 10\n",
        "  batch_size = 32\n",
        "  num_workers = 8\n",
        "  imagesize = 224\n",
        "  model_name = 'tf_efficientnet_b8_ap'"
      ],
      "metadata": {
        "id": "ScGDcmLcaAFl"
      },
      "execution_count": 3,
      "outputs": []
    },
    {
      "cell_type": "code",
      "source": [
        "df = pd.read_csv(args.folder_name/'train.csv')\n",
        "df['filename'] = df['Id'].map(lambda x:str(args.folder_name/'train'/x)+'.jpg')\n",
        "\n",
        "#feature_cols = [col for col in df.columns if col not in ['Id', 'Pawpularity', 'filename']]"
      ],
      "metadata": {
        "id": "FjflA4xAY1Gv"
      },
      "execution_count": 4,
      "outputs": []
    },
    {
      "cell_type": "code",
      "source": [
        "df.head()"
      ],
      "metadata": {
        "colab": {
          "base_uri": "https://localhost:8080/",
          "height": 288
        },
        "id": "V9I6kK-jinJg",
        "outputId": "533d9053-c927-40a8-90b6-ef9dacf1ca44"
      },
      "execution_count": 5,
      "outputs": [
        {
          "output_type": "execute_result",
          "data": {
            "text/html": [
              "\n",
              "  <div id=\"df-6fe154b8-eea8-4d22-b9bc-45bc53dcaadf\">\n",
              "    <div class=\"colab-df-container\">\n",
              "      <div>\n",
              "<style scoped>\n",
              "    .dataframe tbody tr th:only-of-type {\n",
              "        vertical-align: middle;\n",
              "    }\n",
              "\n",
              "    .dataframe tbody tr th {\n",
              "        vertical-align: top;\n",
              "    }\n",
              "\n",
              "    .dataframe thead th {\n",
              "        text-align: right;\n",
              "    }\n",
              "</style>\n",
              "<table border=\"1\" class=\"dataframe\">\n",
              "  <thead>\n",
              "    <tr style=\"text-align: right;\">\n",
              "      <th></th>\n",
              "      <th>Id</th>\n",
              "      <th>Subject Focus</th>\n",
              "      <th>Eyes</th>\n",
              "      <th>Face</th>\n",
              "      <th>Near</th>\n",
              "      <th>Action</th>\n",
              "      <th>Accessory</th>\n",
              "      <th>Group</th>\n",
              "      <th>Collage</th>\n",
              "      <th>Human</th>\n",
              "      <th>Occlusion</th>\n",
              "      <th>Info</th>\n",
              "      <th>Blur</th>\n",
              "      <th>Pawpularity</th>\n",
              "      <th>filename</th>\n",
              "    </tr>\n",
              "  </thead>\n",
              "  <tbody>\n",
              "    <tr>\n",
              "      <th>0</th>\n",
              "      <td>0007de18844b0dbbb5e1f607da0606e0</td>\n",
              "      <td>0</td>\n",
              "      <td>1</td>\n",
              "      <td>1</td>\n",
              "      <td>1</td>\n",
              "      <td>0</td>\n",
              "      <td>0</td>\n",
              "      <td>1</td>\n",
              "      <td>0</td>\n",
              "      <td>0</td>\n",
              "      <td>0</td>\n",
              "      <td>0</td>\n",
              "      <td>0</td>\n",
              "      <td>63</td>\n",
              "      <td>../content/data/train/0007de18844b0dbbb5e1f607da0606e0.jpg</td>\n",
              "    </tr>\n",
              "    <tr>\n",
              "      <th>1</th>\n",
              "      <td>0009c66b9439883ba2750fb825e1d7db</td>\n",
              "      <td>0</td>\n",
              "      <td>1</td>\n",
              "      <td>1</td>\n",
              "      <td>0</td>\n",
              "      <td>0</td>\n",
              "      <td>0</td>\n",
              "      <td>0</td>\n",
              "      <td>0</td>\n",
              "      <td>0</td>\n",
              "      <td>0</td>\n",
              "      <td>0</td>\n",
              "      <td>0</td>\n",
              "      <td>42</td>\n",
              "      <td>../content/data/train/0009c66b9439883ba2750fb825e1d7db.jpg</td>\n",
              "    </tr>\n",
              "    <tr>\n",
              "      <th>2</th>\n",
              "      <td>0013fd999caf9a3efe1352ca1b0d937e</td>\n",
              "      <td>0</td>\n",
              "      <td>1</td>\n",
              "      <td>1</td>\n",
              "      <td>1</td>\n",
              "      <td>0</td>\n",
              "      <td>0</td>\n",
              "      <td>0</td>\n",
              "      <td>0</td>\n",
              "      <td>1</td>\n",
              "      <td>1</td>\n",
              "      <td>0</td>\n",
              "      <td>0</td>\n",
              "      <td>28</td>\n",
              "      <td>../content/data/train/0013fd999caf9a3efe1352ca1b0d937e.jpg</td>\n",
              "    </tr>\n",
              "    <tr>\n",
              "      <th>3</th>\n",
              "      <td>0018df346ac9c1d8413cfcc888ca8246</td>\n",
              "      <td>0</td>\n",
              "      <td>1</td>\n",
              "      <td>1</td>\n",
              "      <td>1</td>\n",
              "      <td>0</td>\n",
              "      <td>0</td>\n",
              "      <td>0</td>\n",
              "      <td>0</td>\n",
              "      <td>0</td>\n",
              "      <td>0</td>\n",
              "      <td>0</td>\n",
              "      <td>0</td>\n",
              "      <td>15</td>\n",
              "      <td>../content/data/train/0018df346ac9c1d8413cfcc888ca8246.jpg</td>\n",
              "    </tr>\n",
              "    <tr>\n",
              "      <th>4</th>\n",
              "      <td>001dc955e10590d3ca4673f034feeef2</td>\n",
              "      <td>0</td>\n",
              "      <td>0</td>\n",
              "      <td>0</td>\n",
              "      <td>1</td>\n",
              "      <td>0</td>\n",
              "      <td>0</td>\n",
              "      <td>1</td>\n",
              "      <td>0</td>\n",
              "      <td>0</td>\n",
              "      <td>0</td>\n",
              "      <td>0</td>\n",
              "      <td>0</td>\n",
              "      <td>72</td>\n",
              "      <td>../content/data/train/001dc955e10590d3ca4673f034feeef2.jpg</td>\n",
              "    </tr>\n",
              "  </tbody>\n",
              "</table>\n",
              "</div>\n",
              "      <button class=\"colab-df-convert\" onclick=\"convertToInteractive('df-6fe154b8-eea8-4d22-b9bc-45bc53dcaadf')\"\n",
              "              title=\"Convert this dataframe to an interactive table.\"\n",
              "              style=\"display:none;\">\n",
              "        \n",
              "  <svg xmlns=\"http://www.w3.org/2000/svg\" height=\"24px\"viewBox=\"0 0 24 24\"\n",
              "       width=\"24px\">\n",
              "    <path d=\"M0 0h24v24H0V0z\" fill=\"none\"/>\n",
              "    <path d=\"M18.56 5.44l.94 2.06.94-2.06 2.06-.94-2.06-.94-.94-2.06-.94 2.06-2.06.94zm-11 1L8.5 8.5l.94-2.06 2.06-.94-2.06-.94L8.5 2.5l-.94 2.06-2.06.94zm10 10l.94 2.06.94-2.06 2.06-.94-2.06-.94-.94-2.06-.94 2.06-2.06.94z\"/><path d=\"M17.41 7.96l-1.37-1.37c-.4-.4-.92-.59-1.43-.59-.52 0-1.04.2-1.43.59L10.3 9.45l-7.72 7.72c-.78.78-.78 2.05 0 2.83L4 21.41c.39.39.9.59 1.41.59.51 0 1.02-.2 1.41-.59l7.78-7.78 2.81-2.81c.8-.78.8-2.07 0-2.86zM5.41 20L4 18.59l7.72-7.72 1.47 1.35L5.41 20z\"/>\n",
              "  </svg>\n",
              "      </button>\n",
              "      \n",
              "  <style>\n",
              "    .colab-df-container {\n",
              "      display:flex;\n",
              "      flex-wrap:wrap;\n",
              "      gap: 12px;\n",
              "    }\n",
              "\n",
              "    .colab-df-convert {\n",
              "      background-color: #E8F0FE;\n",
              "      border: none;\n",
              "      border-radius: 50%;\n",
              "      cursor: pointer;\n",
              "      display: none;\n",
              "      fill: #1967D2;\n",
              "      height: 32px;\n",
              "      padding: 0 0 0 0;\n",
              "      width: 32px;\n",
              "    }\n",
              "\n",
              "    .colab-df-convert:hover {\n",
              "      background-color: #E2EBFA;\n",
              "      box-shadow: 0px 1px 2px rgba(60, 64, 67, 0.3), 0px 1px 3px 1px rgba(60, 64, 67, 0.15);\n",
              "      fill: #174EA6;\n",
              "    }\n",
              "\n",
              "    [theme=dark] .colab-df-convert {\n",
              "      background-color: #3B4455;\n",
              "      fill: #D2E3FC;\n",
              "    }\n",
              "\n",
              "    [theme=dark] .colab-df-convert:hover {\n",
              "      background-color: #434B5C;\n",
              "      box-shadow: 0px 1px 3px 1px rgba(0, 0, 0, 0.15);\n",
              "      filter: drop-shadow(0px 1px 2px rgba(0, 0, 0, 0.3));\n",
              "      fill: #FFFFFF;\n",
              "    }\n",
              "  </style>\n",
              "\n",
              "      <script>\n",
              "        const buttonEl =\n",
              "          document.querySelector('#df-6fe154b8-eea8-4d22-b9bc-45bc53dcaadf button.colab-df-convert');\n",
              "        buttonEl.style.display =\n",
              "          google.colab.kernel.accessAllowed ? 'block' : 'none';\n",
              "\n",
              "        async function convertToInteractive(key) {\n",
              "          const element = document.querySelector('#df-6fe154b8-eea8-4d22-b9bc-45bc53dcaadf');\n",
              "          const dataTable =\n",
              "            await google.colab.kernel.invokeFunction('convertToInteractive',\n",
              "                                                     [key], {});\n",
              "          if (!dataTable) return;\n",
              "\n",
              "          const docLinkHtml = 'Like what you see? Visit the ' +\n",
              "            '<a target=\"_blank\" href=https://colab.research.google.com/notebooks/data_table.ipynb>data table notebook</a>'\n",
              "            + ' to learn more about interactive tables.';\n",
              "          element.innerHTML = '';\n",
              "          dataTable['output_type'] = 'display_data';\n",
              "          await google.colab.output.renderOutput(dataTable, element);\n",
              "          const docLink = document.createElement('div');\n",
              "          docLink.innerHTML = docLinkHtml;\n",
              "          element.appendChild(docLink);\n",
              "        }\n",
              "      </script>\n",
              "    </div>\n",
              "  </div>\n",
              "  "
            ],
            "text/plain": [
              "                                 Id  ...                                                    filename\n",
              "0  0007de18844b0dbbb5e1f607da0606e0  ...  ../content/data/train/0007de18844b0dbbb5e1f607da0606e0.jpg\n",
              "1  0009c66b9439883ba2750fb825e1d7db  ...  ../content/data/train/0009c66b9439883ba2750fb825e1d7db.jpg\n",
              "2  0013fd999caf9a3efe1352ca1b0d937e  ...  ../content/data/train/0013fd999caf9a3efe1352ca1b0d937e.jpg\n",
              "3  0018df346ac9c1d8413cfcc888ca8246  ...  ../content/data/train/0018df346ac9c1d8413cfcc888ca8246.jpg\n",
              "4  001dc955e10590d3ca4673f034feeef2  ...  ../content/data/train/001dc955e10590d3ca4673f034feeef2.jpg\n",
              "\n",
              "[5 rows x 15 columns]"
            ]
          },
          "metadata": {},
          "execution_count": 5
        }
      ]
    },
    {
      "cell_type": "code",
      "source": [
        "seed = args.seed\n",
        "\n",
        "device = torch.device(\"cuda:0\")\n",
        "\n",
        "set_seed(seed, reproducible=True)\n",
        "torch.manual_seed(seed)\n",
        "torch.cuda.manual_seed(seed)\n",
        "torch.backends.cudnn.deterministic = True\n",
        "torch.use_deterministic_algorithms = True"
      ],
      "metadata": {
        "id": "xXU-XFsTY2xS"
      },
      "execution_count": 6,
      "outputs": []
    },
    {
      "cell_type": "code",
      "source": [
        "df = df.drop(columns=['Id'])\n",
        "df = df.sample(frac=1).reset_index(drop=True)\n",
        "df['norm_score'] = df['Pawpularity']/100\n",
        "\n",
        "\n",
        "num_bins = int(np.ceil(2*((len(df))**(1./3))))\n",
        "\n",
        "df['bins'] = pd.cut(df['norm_score'], bins=num_bins, labels=False)\n",
        "\n",
        "\n",
        "df['fold'] = -1\n",
        "\n",
        "strat_kfold = StratifiedKFold(n_splits=args.num_splits, random_state=seed, shuffle=True)\n",
        "for i, (_, train_index) in enumerate(strat_kfold.split(df.index, df['bins'])):\n",
        "    df.iloc[train_index, -1] = i"
      ],
      "metadata": {
        "id": "khN-SP1TZLnK"
      },
      "execution_count": 7,
      "outputs": []
    },
    {
      "cell_type": "code",
      "source": [
        "def rmse(input,target):\n",
        "    return 100*torch.sqrt(F.mse_loss(torch.sigmoid(input.flatten()), target))"
      ],
      "metadata": {
        "id": "sUTiozPjaWYz"
      },
      "execution_count": 8,
      "outputs": []
    },
    {
      "cell_type": "code",
      "source": [
        "def get_data(fold):\n",
        "\n",
        "    df_f = df.copy()\n",
        "    df_f['is_valid'] = (df_f['fold'] == fold)\n",
        "    \n",
        "    dls = ImageDataLoaders.from_df(df_f, #pass in train DataFrame\n",
        "                               valid_pct=0.2, #80-20 train-validation random split\n",
        "                               valid_col='is_valid', #\n",
        "                               seed=args.seed, #seed\n",
        "                               fn_col='filename', #filename/path is in the second column of the DataFrame\n",
        "                               label_col='norm_score', #label is in the first column of the DataFrame\n",
        "                               y_block=RegressionBlock, #The type of target\n",
        "                               bs=args.batch_size, #pass in batch size\n",
        "                               num_workers=args.num_workers,\n",
        "                               item_tfms=Resize(args.imagesize), #pass in item_tfms\n",
        "                               batch_tfms=setup_aug_tfms([Brightness(), Contrast(), Hue(), \n",
        "                                                          Saturation(), \n",
        "                                                          RandomErasing(p=.3, sh =.1, max_count = 2)])) #pass in batch_tfms\n",
        "    \n",
        "    return dls"
      ],
      "metadata": {
        "id": "dyJYl7O8aZ0X"
      },
      "execution_count": 9,
      "outputs": []
    },
    {
      "cell_type": "code",
      "source": [
        "#Valid Kfolder size\n",
        "the_data = get_data(0)\n",
        "assert (len(the_data.train) + len(the_data.valid)) == (len(df)//args.batch_size)"
      ],
      "metadata": {
        "id": "CCuXSCNncyIX"
      },
      "execution_count": 10,
      "outputs": []
    },
    {
      "cell_type": "code",
      "source": [
        "def get_learner(fold_num):\n",
        "    data = get_data(fold_num)\n",
        "    \n",
        "    model = create_model(args.model_name, pretrained=True, num_classes=data.c)\n",
        "\n",
        "    learn = Learner(data, model, loss_func=BCEWithLogitsLossFlat(), metrics=rmse).to_fp16()\n",
        "    \n",
        "    return learn"
      ],
      "metadata": {
        "id": "5NvvxPmKdDpK"
      },
      "execution_count": 11,
      "outputs": []
    },
    {
      "cell_type": "code",
      "source": [
        "for i in range(args.num_splits):\n",
        "\n",
        "    print(f'Fold {i} results')\n",
        "    \n",
        "    learn = get_learner(fold_num=i)\n",
        "\n",
        "    lr = learn.lr_find(end_lr=3e-2)\n",
        "\n",
        "    learn.fit_one_cycle(5, lr.valley, cbs=[SaveModelCallback(), EarlyStoppingCallback(monitor='rmse', comp=np.less, patience=2)]) \n",
        "    \n",
        "    learn.recorder.plot_loss()"
      ],
      "metadata": {
        "colab": {
          "base_uri": "https://localhost:8080/",
          "height": 150
        },
        "id": "1XBM2pTHkdTN",
        "outputId": "5862d8e7-eec6-44be-9a71-23f318ef98f1"
      },
      "execution_count": null,
      "outputs": [
        {
          "output_type": "stream",
          "name": "stdout",
          "text": [
            "Fold 0 results\n"
          ]
        },
        {
          "output_type": "stream",
          "name": "stderr",
          "text": [
            "Downloading: \"https://github.com/rwightman/pytorch-image-models/releases/download/v0.1-weights/tf_efficientnet_b8_ap-00e169fa.pth\" to /root/.cache/torch/hub/checkpoints/tf_efficientnet_b8_ap-00e169fa.pth\n"
          ]
        },
        {
          "output_type": "display_data",
          "data": {
            "text/html": [
              ""
            ],
            "text/plain": [
              "<IPython.core.display.HTML object>"
            ]
          },
          "metadata": {}
        },
        {
          "output_type": "display_data",
          "data": {
            "text/html": [
              "\n",
              "    <div>\n",
              "        <style>\n",
              "            /* Turns off some styling */\n",
              "            progress {\n",
              "                /* gets rid of default border in Firefox and Opera. */\n",
              "                border: none;\n",
              "                /* Needs to be in here for Safari polyfill so background images work as expected. */\n",
              "                background-size: auto;\n",
              "            }\n",
              "            .progress-bar-interrupted, .progress-bar-interrupted::-webkit-progress-bar {\n",
              "                background: #F44336;\n",
              "            }\n",
              "        </style>\n",
              "      <progress value='0' class='' max='5' style='width:300px; height:20px; vertical-align: middle;'></progress>\n",
              "      0.00% [0/5 00:00<00:00]\n",
              "    </div>\n",
              "    \n",
              "<table border=\"1\" class=\"dataframe\">\n",
              "  <thead>\n",
              "    <tr style=\"text-align: left;\">\n",
              "      <th>epoch</th>\n",
              "      <th>train_loss</th>\n",
              "      <th>valid_loss</th>\n",
              "      <th>rmse</th>\n",
              "      <th>time</th>\n",
              "    </tr>\n",
              "  </thead>\n",
              "  <tbody>\n",
              "  </tbody>\n",
              "</table><p>\n",
              "\n",
              "    <div>\n",
              "        <style>\n",
              "            /* Turns off some styling */\n",
              "            progress {\n",
              "                /* gets rid of default border in Firefox and Opera. */\n",
              "                border: none;\n",
              "                /* Needs to be in here for Safari polyfill so background images work as expected. */\n",
              "                background-size: auto;\n",
              "            }\n",
              "            .progress-bar-interrupted, .progress-bar-interrupted::-webkit-progress-bar {\n",
              "                background: #F44336;\n",
              "            }\n",
              "        </style>\n",
              "      <progress value='150' class='' max='278' style='width:300px; height:20px; vertical-align: middle;'></progress>\n",
              "      53.96% [150/278 03:01<02:34 1.2567]\n",
              "    </div>\n",
              "    "
            ],
            "text/plain": [
              "<IPython.core.display.HTML object>"
            ]
          },
          "metadata": {}
        }
      ]
    },
    {
      "cell_type": "markdown",
      "source": [
        "# **Reference**\n",
        "###  [Petfinder Pawpularity EDA & fastai starter 🐱🐶](https://www.kaggle.com/tanlikesmath/petfinder-pawpularity-eda-fastai-starter)\n",
        "###  [Petfinder& fastai with DataAugmentation KFold 10](https://www.kaggle.com/bobber/petfinder-fastai-with-dataaugmentation-kfold-10)\n",
        "###  [Lovely Doggo with Bonky (fastai &timm)](https://www.kaggle.com/warotjanpinitrat/lovely-doggo-with-bonky-fastai-timm)"
      ],
      "metadata": {
        "id": "BfWRshXokTOH"
      }
    }
  ]
}